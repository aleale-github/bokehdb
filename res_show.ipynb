{
 "cells": [
  {
   "cell_type": "code",
   "execution_count": 3,
   "metadata": {},
   "outputs": [],
   "source": [
    "import pandas as pd\n",
    "import numpy as np\n",
    "from datetime import date\n",
    "from bokeh.plotting import figure\n",
    "from bokeh.layouts import layout, widgetbox\n",
    "from bokeh.models import ColumnDataSource, Div,HoverTool\n",
    "from bokeh.models.widgets import Slider, Select, TextInput, DateRangeSlider,DateSlider,DatePicker\n",
    "from bokeh.io import curdoc\n",
    "from bokeh.palettes import Category10_4 as cols\n",
    "# from bokeh.io import show,output_notebook\n",
    "# output_notebook()"
   ]
  },
  {
   "cell_type": "code",
   "execution_count": 7,
   "metadata": {},
   "outputs": [],
   "source": [
    "df_pred = pd.read_hdf('/data/tests/vwap.hdf5',key='/historical_data/results')\n",
    "df_pred = df_pred.sort_values(by=[\"ISIN\",\"MKT\",\"DATETIME\",\"REF_DATE\"]).drop_duplicates(subset=[\"ISIN\",\"MKT\",\"DATETIME\"],keep='last').drop(columns=[\"REF_DATE\"])\n",
    "df_real = pd.read_hdf('/data/tests/vwap.hdf5',key='/historical_data/volumes')\n",
    "df = df_real.merge(df_pred,on=[\"ISIN\",\"MKT\",\"DATETIME\"],suffixes=[\"_REAL\",\"_PRED\"],how=\"right\")\n",
    "df[\"DATE\"] = df.DATETIME.dt.date\n",
    "df[\"TIME\"] = df.DATETIME.dt.time\n",
    "df = df[[\"ISIN\",\"MKT\",\"DATE\",\"TIME\",\"NCUMSUM_REAL\",\"NCUMSUM_PRED\"]].sort_values(by=[\"ISIN\",\"MKT\",\"DATE\",\"TIME\"])\n",
    "\n",
    "isin_l = df.ISIN.unique().tolist()\n",
    "dates_l = df.DATE.sort_values().unique().tolist()\n",
    "isin_s = Select(title=\"ISIN\", options=isin_l,value=isin_l[0])\n",
    "date_s = DatePicker(title=\"Date\",min_date=dates_l[0],max_date=dates_l[-1],value=df.DATE.min())\n",
    "\n",
    "# Create Column Data Source that will be used by the plot\n",
    "source = ColumnDataSource(data=dict(TIME=[],NCUMSUM_REAL=[],NCUMSUM_PRED=[]))\n",
    "tools = 'save,pan,box_zoom,reset,wheel_zoom,hover'\n",
    "\n",
    "p = figure(plot_height=480, plot_width=800,x_axis_type=\"datetime\",y_range=(0,1.1),background_fill_color=\"#efefef\",tools = tools, output_backend=\"webgl\")\n",
    "p.toolbar.logo = None\n",
    "p.xaxis.axis_label = \"Trade Time\"\n",
    "p.yaxis.axis_label = \"Volume\"\n",
    "line_pred = p.line(x=\"TIME\", y=\"NCUMSUM_PRED\", source=source,legend=\"Prediction\",color=cols[1], line_width=2,muted_color=cols[1], muted_alpha=0.1)\n",
    "line_real = p.line(x=\"TIME\", y=\"NCUMSUM_REAL\", source=source,legend=\"Real\",color=cols[0], line_width=2,muted_color=cols[0], muted_alpha=0.1)\n",
    "\n",
    "p.legend.location = \"top_left\"\n",
    "p.legend.click_policy = \"mute\"\n",
    "p.select_one(HoverTool).tooltips = [('Time', '@TIME{%T}'),('Predicted', '@NCUMSUM_PRED'),('Real', '@NCUMSUM_REAL')]\n",
    "p.select_one(HoverTool).formatters = {'TIME': 'datetime'}\n",
    "p.select_one(HoverTool).mode='vline'\n",
    "\n",
    "def update():\n",
    "    isin = isin_s.value\n",
    "    date = date_s.value\n",
    "    tmp = df[(df.DATE == date) & (df.ISIN == isin)]\n",
    "    if tmp.empty:\n",
    "        p.title.text = \"No data available for {} on {}\".format(isin,date)\n",
    "    else:\n",
    "        p.title.text = \"VWAP for {} on {}\".format(isin,date)\n",
    "    source.data = dict(TIME=tmp.TIME.values,NCUMSUM_PRED=tmp.NCUMSUM_PRED.values,NCUMSUM_REAL=tmp.NCUMSUM_REAL.values)\n",
    "    \n",
    "controls = [isin_s,date_s]\n",
    "for control in controls:\n",
    "    control.on_change('value', lambda attr, old, new: update())\n",
    "\n",
    "inputs = widgetbox(*controls, sizing_mode='fixed')\n",
    "l = layout([[inputs, p]], sizing_mode='fixed')\n",
    "\n",
    "update()\n",
    "curdoc().add_root(l)\n",
    "curdoc().title = \"VWAP\""
   ]
  },
  {
   "cell_type": "code",
   "execution_count": null,
   "metadata": {},
   "outputs": [],
   "source": []
  }
 ],
 "metadata": {
  "kernelspec": {
   "display_name": "Python 3",
   "language": "python",
   "name": "python3"
  },
  "language_info": {
   "codemirror_mode": {
    "name": "ipython",
    "version": 3
   },
   "file_extension": ".py",
   "mimetype": "text/x-python",
   "name": "python",
   "nbconvert_exporter": "python",
   "pygments_lexer": "ipython3",
   "version": "3.6.4"
  }
 },
 "nbformat": 4,
 "nbformat_minor": 2
}
